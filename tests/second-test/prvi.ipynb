{
 "cells": [
  {
   "cell_type": "code",
   "execution_count": 1,
   "id": "64bd7e10",
   "metadata": {
    "execution": {
     "iopub.execute_input": "2025-03-28T14:24:55.931267Z",
     "iopub.status.busy": "2025-03-28T14:24:55.930928Z",
     "iopub.status.idle": "2025-03-28T14:24:56.911709Z",
     "shell.execute_reply": "2025-03-28T14:24:56.910777Z"
    },
    "papermill": {
     "duration": 0.986675,
     "end_time": "2025-03-28T14:24:56.913598",
     "exception": false,
     "start_time": "2025-03-28T14:24:55.926923",
     "status": "completed"
    },
    "tags": []
   },
   "outputs": [],
   "source": [
    "# Reading the csv file and checking the data\n",
    "\n",
    "import pandas as pd\n",
    "\n",
    "df = pd.read_csv('/kaggle/input/iris-dataset/iris.csv')\n",
    "\n",
    "# print(df.head(), end='\\n')\n",
    "# print(df.info(), end='\\n')\n",
    "# print(df.describe())"
   ]
  },
  {
   "cell_type": "code",
   "execution_count": 2,
   "id": "b6da9c7d",
   "metadata": {
    "execution": {
     "iopub.execute_input": "2025-03-28T14:24:56.919950Z",
     "iopub.status.busy": "2025-03-28T14:24:56.919557Z",
     "iopub.status.idle": "2025-03-28T14:24:56.930652Z",
     "shell.execute_reply": "2025-03-28T14:24:56.929469Z"
    },
    "papermill": {
     "duration": 0.015969,
     "end_time": "2025-03-28T14:24:56.932421",
     "exception": false,
     "start_time": "2025-03-28T14:24:56.916452",
     "status": "completed"
    },
    "tags": []
   },
   "outputs": [
    {
     "name": "stdout",
     "output_type": "stream",
     "text": [
      "Minimum value for the sepal_length column is: 4.3, and the maximum value is: 7.9\n"
     ]
    }
   ],
   "source": [
    "# Min and Max value for sepal_length col\n",
    "\n",
    "min_value = df['sepal_length'].min()\n",
    "max_value = df['sepal_length'].max()\n",
    "\n",
    "print(f\"Minimum value for the sepal_length column is: {round(min_value, 2)}, and the maximum value is: {round(max_value, 2)}\")"
   ]
  },
  {
   "cell_type": "code",
   "execution_count": 3,
   "id": "c7d5c597",
   "metadata": {
    "execution": {
     "iopub.execute_input": "2025-03-28T14:24:56.939371Z",
     "iopub.status.busy": "2025-03-28T14:24:56.939019Z",
     "iopub.status.idle": "2025-03-28T14:24:56.950441Z",
     "shell.execute_reply": "2025-03-28T14:24:56.949190Z"
    },
    "papermill": {
     "duration": 0.016618,
     "end_time": "2025-03-28T14:24:56.952283",
     "exception": false,
     "start_time": "2025-03-28T14:24:56.935665",
     "status": "completed"
    },
    "tags": []
   },
   "outputs": [
    {
     "name": "stdout",
     "output_type": "stream",
     "text": [
      "sepal_length    5.84\n",
      "sepal_width     3.05\n",
      "petal_length    3.76\n",
      "petal_width     1.20\n",
      "dtype: float64\n",
      "5.84\n"
     ]
    }
   ],
   "source": [
    "# Mean value of numeric columns\n",
    "\n",
    "numeric_columns = df.select_dtypes(include='float64')\n",
    "\n",
    "mean_values = numeric_columns.mean()\n",
    "mean_value = numeric_columns['sepal_length'].mean()\n",
    "\n",
    "print(round(mean_values, 2))\n",
    "print(round(mean_value, 2))"
   ]
  },
  {
   "cell_type": "code",
   "execution_count": 4,
   "id": "d24d5760",
   "metadata": {
    "execution": {
     "iopub.execute_input": "2025-03-28T14:24:56.958338Z",
     "iopub.status.busy": "2025-03-28T14:24:56.958021Z",
     "iopub.status.idle": "2025-03-28T14:24:56.963282Z",
     "shell.execute_reply": "2025-03-28T14:24:56.962023Z"
    },
    "papermill": {
     "duration": 0.010324,
     "end_time": "2025-03-28T14:24:56.965144",
     "exception": false,
     "start_time": "2025-03-28T14:24:56.954820",
     "status": "completed"
    },
    "tags": []
   },
   "outputs": [
    {
     "name": "stdout",
     "output_type": "stream",
     "text": [
      "Precentage difference between the maximum and average value of the sepal length is: 35.2%\n"
     ]
    }
   ],
   "source": [
    "# Finding the percentage difference between the maximum and average value of the sepal length\n",
    "\n",
    "percentage_diff = ((max_value-mean_value)/mean_value)*100\n",
    "\n",
    "print(f\"Precentage difference between the maximum and average value of the sepal length is: {round(percentage_diff, 2)}%\")"
   ]
  },
  {
   "cell_type": "code",
   "execution_count": 5,
   "id": "81dd1afd",
   "metadata": {
    "execution": {
     "iopub.execute_input": "2025-03-28T14:24:56.971373Z",
     "iopub.status.busy": "2025-03-28T14:24:56.971048Z",
     "iopub.status.idle": "2025-03-28T14:24:56.994394Z",
     "shell.execute_reply": "2025-03-28T14:24:56.993003Z"
    },
    "papermill": {
     "duration": 0.02828,
     "end_time": "2025-03-28T14:24:56.996023",
     "exception": false,
     "start_time": "2025-03-28T14:24:56.967743",
     "status": "completed"
    },
    "tags": []
   },
   "outputs": [
    {
     "name": "stdout",
     "output_type": "stream",
     "text": [
      "   sepal_length  sepal_width  petal_length  petal_width species  \\\n",
      "0           5.1          3.5           1.4          0.2  setosa   \n",
      "1           4.9          3.0           1.4          0.2  setosa   \n",
      "2           4.7          3.2           1.3          0.2  setosa   \n",
      "3           4.6          3.1           1.5          0.2  setosa   \n",
      "4           5.0          3.6           1.4          0.2  setosa   \n",
      "\n",
      "   sepal_length_normalized  \n",
      "0                 0.222222  \n",
      "1                 0.166667  \n",
      "2                 0.111111  \n",
      "3                 0.083333  \n",
      "4                 0.194444  \n"
     ]
    }
   ],
   "source": [
    "# Normalization of the sepal_length column\n",
    "\n",
    "df['sepal_length_normalized'] = (df['sepal_length'] - min_value) / (max_value - min_value)\n",
    "df.to_csv(\"updated_iris.csv\", index=False)\n",
    "\n",
    "print(df.head())"
   ]
  },
  {
   "cell_type": "code",
   "execution_count": 6,
   "id": "0a79d39a",
   "metadata": {
    "execution": {
     "iopub.execute_input": "2025-03-28T14:24:57.002728Z",
     "iopub.status.busy": "2025-03-28T14:24:57.002392Z",
     "iopub.status.idle": "2025-03-28T14:24:57.039523Z",
     "shell.execute_reply": "2025-03-28T14:24:57.038294Z"
    },
    "papermill": {
     "duration": 0.042531,
     "end_time": "2025-03-28T14:24:57.041313",
     "exception": false,
     "start_time": "2025-03-28T14:24:56.998782",
     "status": "completed"
    },
    "tags": []
   },
   "outputs": [
    {
     "name": "stdout",
     "output_type": "stream",
     "text": [
      "Highest Positive Correlation: petal_length and petal_length: 0.96\n",
      "Highest Negative Correlation: sepal_width and sepal_width: -0.42\n"
     ]
    }
   ],
   "source": [
    "# Finding the highest positive and negative correlation\n",
    "# Positive Correlation: This means two columns tend to increase or decrease together.\n",
    "# Negative Correlation: This means two columns have an inverse relationship—when one column increases, the other decreases.\n",
    "\n",
    "correlation_matrix = numeric_columns.corr()\n",
    "\n",
    "correlation_pairs = correlation_matrix.unstack().sort_values(ascending=False)\n",
    "\n",
    "correlation_pairs = correlation_pairs[correlation_pairs != 1]\n",
    "\n",
    "correlation_pairs = correlation_pairs.drop_duplicates()\n",
    "\n",
    "highest_positive_corr = correlation_pairs.iloc[0]\n",
    "highest_positive_pair = correlation_pairs.index[0]\n",
    "\n",
    "highest_negative_corr = correlation_pairs.iloc[-1]\n",
    "highest_negative_pair = correlation_pairs.index[-1]\n",
    "\n",
    "print(f\"Highest Positive Correlation: {highest_positive_pair[0]} and {highest_positive_pair[0]}: {round(highest_positive_corr, 2)}\")\n",
    "print(f\"Highest Negative Correlation: {highest_negative_pair[0]} and {highest_negative_pair[0]}: {round(highest_negative_corr, 2)}\")"
   ]
  }
 ],
 "metadata": {
  "kaggle": {
   "accelerator": "none",
   "dataSources": [
    {
     "datasetId": 2354152,
     "sourceId": 3966491,
     "sourceType": "datasetVersion"
    }
   ],
   "dockerImageVersionId": 30918,
   "isGpuEnabled": false,
   "isInternetEnabled": false,
   "language": "python",
   "sourceType": "notebook"
  },
  "kernelspec": {
   "display_name": "Python 3",
   "language": "python",
   "name": "python3"
  },
  "language_info": {
   "codemirror_mode": {
    "name": "ipython",
    "version": 3
   },
   "file_extension": ".py",
   "mimetype": "text/x-python",
   "name": "python",
   "nbconvert_exporter": "python",
   "pygments_lexer": "ipython3",
   "version": "3.10.12"
  },
  "papermill": {
   "default_parameters": {},
   "duration": 5.15055,
   "end_time": "2025-03-28T14:24:57.664049",
   "environment_variables": {},
   "exception": null,
   "input_path": "__notebook__.ipynb",
   "output_path": "__notebook__.ipynb",
   "parameters": {},
   "start_time": "2025-03-28T14:24:52.513499",
   "version": "2.6.0"
  }
 },
 "nbformat": 4,
 "nbformat_minor": 5
}
